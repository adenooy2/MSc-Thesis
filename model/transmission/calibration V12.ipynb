{
 "cells": [
  {
   "cell_type": "code",
   "execution_count": 1,
   "id": "3c384025",
   "metadata": {},
   "outputs": [],
   "source": [
    "import warnings\n",
    "\n",
    "import matplotlib.pyplot as plt\n",
    "import numpy as np\n",
    "import pandas as pd\n",
    "\n",
    "\n",
    "\n",
    "import pysd\n",
    "from SALib.sample import saltelli\n",
    "from SALib.analyze import sobol\n",
    "import scipy as sp"
   ]
  },
  {
   "cell_type": "markdown",
   "id": "4088050f",
   "metadata": {},
   "source": [
    "# Load Calibration data"
   ]
  },
  {
   "cell_type": "code",
   "execution_count": 2,
   "id": "a3de1c2a",
   "metadata": {},
   "outputs": [
    {
     "data": {
      "text/html": [
       "<div>\n",
       "<style scoped>\n",
       "    .dataframe tbody tr th:only-of-type {\n",
       "        vertical-align: middle;\n",
       "    }\n",
       "\n",
       "    .dataframe tbody tr th {\n",
       "        vertical-align: top;\n",
       "    }\n",
       "\n",
       "    .dataframe thead th {\n",
       "        text-align: right;\n",
       "    }\n",
       "</style>\n",
       "<table border=\"1\" class=\"dataframe\">\n",
       "  <thead>\n",
       "    <tr style=\"text-align: right;\">\n",
       "      <th></th>\n",
       "      <th>year</th>\n",
       "      <th>var</th>\n",
       "      <th>Lower</th>\n",
       "      <th>Mean</th>\n",
       "      <th>Upper</th>\n",
       "    </tr>\n",
       "  </thead>\n",
       "  <tbody>\n",
       "    <tr>\n",
       "      <th>0</th>\n",
       "      <td>2000</td>\n",
       "      <td>e_inc_num</td>\n",
       "      <td>56000</td>\n",
       "      <td>139000</td>\n",
       "      <td>259000</td>\n",
       "    </tr>\n",
       "    <tr>\n",
       "      <th>1</th>\n",
       "      <td>2001</td>\n",
       "      <td>e_inc_num</td>\n",
       "      <td>57000</td>\n",
       "      <td>159000</td>\n",
       "      <td>312000</td>\n",
       "    </tr>\n",
       "    <tr>\n",
       "      <th>2</th>\n",
       "      <td>2002</td>\n",
       "      <td>e_inc_num</td>\n",
       "      <td>57000</td>\n",
       "      <td>175000</td>\n",
       "      <td>357000</td>\n",
       "    </tr>\n",
       "    <tr>\n",
       "      <th>3</th>\n",
       "      <td>2003</td>\n",
       "      <td>e_inc_num</td>\n",
       "      <td>54000</td>\n",
       "      <td>206000</td>\n",
       "      <td>456000</td>\n",
       "    </tr>\n",
       "    <tr>\n",
       "      <th>4</th>\n",
       "      <td>2004</td>\n",
       "      <td>e_inc_num</td>\n",
       "      <td>54000</td>\n",
       "      <td>221000</td>\n",
       "      <td>501000</td>\n",
       "    </tr>\n",
       "    <tr>\n",
       "      <th>5</th>\n",
       "      <td>2005</td>\n",
       "      <td>e_inc_num</td>\n",
       "      <td>56000</td>\n",
       "      <td>226000</td>\n",
       "      <td>510000</td>\n",
       "    </tr>\n",
       "    <tr>\n",
       "      <th>6</th>\n",
       "      <td>2006</td>\n",
       "      <td>e_inc_num</td>\n",
       "      <td>56000</td>\n",
       "      <td>239000</td>\n",
       "      <td>549000</td>\n",
       "    </tr>\n",
       "    <tr>\n",
       "      <th>7</th>\n",
       "      <td>2007</td>\n",
       "      <td>e_inc_num</td>\n",
       "      <td>60000</td>\n",
       "      <td>235000</td>\n",
       "      <td>525000</td>\n",
       "    </tr>\n",
       "    <tr>\n",
       "      <th>8</th>\n",
       "      <td>2008</td>\n",
       "      <td>e_inc_num</td>\n",
       "      <td>66000</td>\n",
       "      <td>221000</td>\n",
       "      <td>467000</td>\n",
       "    </tr>\n",
       "    <tr>\n",
       "      <th>9</th>\n",
       "      <td>2009</td>\n",
       "      <td>e_inc_num</td>\n",
       "      <td>68000</td>\n",
       "      <td>228000</td>\n",
       "      <td>483000</td>\n",
       "    </tr>\n",
       "    <tr>\n",
       "      <th>10</th>\n",
       "      <td>2010</td>\n",
       "      <td>e_inc_num</td>\n",
       "      <td>72000</td>\n",
       "      <td>220000</td>\n",
       "      <td>449000</td>\n",
       "    </tr>\n",
       "    <tr>\n",
       "      <th>11</th>\n",
       "      <td>2011</td>\n",
       "      <td>e_inc_num</td>\n",
       "      <td>76000</td>\n",
       "      <td>216000</td>\n",
       "      <td>428000</td>\n",
       "    </tr>\n",
       "    <tr>\n",
       "      <th>12</th>\n",
       "      <td>2012</td>\n",
       "      <td>e_inc_num</td>\n",
       "      <td>79000</td>\n",
       "      <td>206000</td>\n",
       "      <td>392000</td>\n",
       "    </tr>\n",
       "    <tr>\n",
       "      <th>13</th>\n",
       "      <td>2013</td>\n",
       "      <td>e_inc_num</td>\n",
       "      <td>82000</td>\n",
       "      <td>198000</td>\n",
       "      <td>366000</td>\n",
       "    </tr>\n",
       "    <tr>\n",
       "      <th>14</th>\n",
       "      <td>2014</td>\n",
       "      <td>e_inc_num</td>\n",
       "      <td>84000</td>\n",
       "      <td>194000</td>\n",
       "      <td>349000</td>\n",
       "    </tr>\n",
       "    <tr>\n",
       "      <th>15</th>\n",
       "      <td>2015</td>\n",
       "      <td>e_inc_num</td>\n",
       "      <td>85000</td>\n",
       "      <td>178000</td>\n",
       "      <td>305000</td>\n",
       "    </tr>\n",
       "    <tr>\n",
       "      <th>16</th>\n",
       "      <td>2016</td>\n",
       "      <td>e_inc_num</td>\n",
       "      <td>86000</td>\n",
       "      <td>167000</td>\n",
       "      <td>274000</td>\n",
       "    </tr>\n",
       "    <tr>\n",
       "      <th>17</th>\n",
       "      <td>2017</td>\n",
       "      <td>e_inc_num</td>\n",
       "      <td>86000</td>\n",
       "      <td>156000</td>\n",
       "      <td>247000</td>\n",
       "    </tr>\n",
       "    <tr>\n",
       "      <th>18</th>\n",
       "      <td>2018</td>\n",
       "      <td>e_inc_num</td>\n",
       "      <td>85000</td>\n",
       "      <td>146000</td>\n",
       "      <td>223000</td>\n",
       "    </tr>\n",
       "    <tr>\n",
       "      <th>19</th>\n",
       "      <td>2019</td>\n",
       "      <td>e_inc_num</td>\n",
       "      <td>83000</td>\n",
       "      <td>136000</td>\n",
       "      <td>202000</td>\n",
       "    </tr>\n",
       "    <tr>\n",
       "      <th>20</th>\n",
       "      <td>2020</td>\n",
       "      <td>e_inc_num</td>\n",
       "      <td>82000</td>\n",
       "      <td>130000</td>\n",
       "      <td>192000</td>\n",
       "    </tr>\n",
       "    <tr>\n",
       "      <th>21</th>\n",
       "      <td>2021</td>\n",
       "      <td>e_inc_num</td>\n",
       "      <td>84000</td>\n",
       "      <td>132000</td>\n",
       "      <td>200000</td>\n",
       "    </tr>\n",
       "  </tbody>\n",
       "</table>\n",
       "</div>"
      ],
      "text/plain": [
       "    year        var  Lower    Mean   Upper\n",
       "0   2000  e_inc_num  56000  139000  259000\n",
       "1   2001  e_inc_num  57000  159000  312000\n",
       "2   2002  e_inc_num  57000  175000  357000\n",
       "3   2003  e_inc_num  54000  206000  456000\n",
       "4   2004  e_inc_num  54000  221000  501000\n",
       "5   2005  e_inc_num  56000  226000  510000\n",
       "6   2006  e_inc_num  56000  239000  549000\n",
       "7   2007  e_inc_num  60000  235000  525000\n",
       "8   2008  e_inc_num  66000  221000  467000\n",
       "9   2009  e_inc_num  68000  228000  483000\n",
       "10  2010  e_inc_num  72000  220000  449000\n",
       "11  2011  e_inc_num  76000  216000  428000\n",
       "12  2012  e_inc_num  79000  206000  392000\n",
       "13  2013  e_inc_num  82000  198000  366000\n",
       "14  2014  e_inc_num  84000  194000  349000\n",
       "15  2015  e_inc_num  85000  178000  305000\n",
       "16  2016  e_inc_num  86000  167000  274000\n",
       "17  2017  e_inc_num  86000  156000  247000\n",
       "18  2018  e_inc_num  85000  146000  223000\n",
       "19  2019  e_inc_num  83000  136000  202000\n",
       "20  2020  e_inc_num  82000  130000  192000\n",
       "21  2021  e_inc_num  84000  132000  200000"
      ]
     },
     "execution_count": 2,
     "metadata": {},
     "output_type": "execute_result"
    }
   ],
   "source": [
    "data = pd.read_csv(\"/Users/adenooy/Library/CloudStorage/OneDrive-Personal/UVA/Thesis/MSc-Thesis/data/dynamic/calibration_incidence.csv\", sep=',',decimal='.')\n",
    "data=data.drop(\"Unnamed: 0\",axis=1)\n",
    "data.head(23)\n"
   ]
  },
  {
   "cell_type": "code",
   "execution_count": 3,
   "id": "f1358c45",
   "metadata": {},
   "outputs": [
    {
     "data": {
      "text/plain": [
       "Text(0.5, 1.0, 'Estimated Incident cases of TB')"
      ]
     },
     "execution_count": 3,
     "metadata": {},
     "output_type": "execute_result"
    },
    {
     "data": {
      "image/png": "[encoded data removed]",
      "text/plain": [
       "<Figure size 432x288 with 1 Axes>"
      ]
     },
     "metadata": {
      "needs_background": "light"
     },
     "output_type": "display_data"
    }
   ],
   "source": [
    "plt.plot(data[\"year\"], data['Mean'],label=\"mean_estimate\",color=\"green\")\n",
    "plt.xlabel('Years')\n",
    "plt.ylabel('Estimated Incidence')\n",
    "plt.title(\"Estimated Incident cases of TB\",pad=20)"
   ]
  },
  {
   "cell_type": "code",
   "execution_count": null,
   "id": "1e191f04",
   "metadata": {},
   "outputs": [],
   "source": []
  },
  {
   "cell_type": "markdown",
   "id": "67420b7c",
   "metadata": {},
   "source": [
    "# Load Model"
   ]
  },
  {
   "cell_type": "code",
   "execution_count": 43,
   "id": "dc19c60c",
   "metadata": {},
   "outputs": [],
   "source": [
    "model = pysd.read_vensim(\"/Users/adenooy/Library/CloudStorage/OneDrive-Personal/UVA/Thesis/MSc-Thesis/model/transmission/V12_years.mdl\")"
   ]
  },
  {
   "cell_type": "code",
   "execution_count": 44,
   "id": "b981e79b",
   "metadata": {},
   "outputs": [],
   "source": [
    "model_output = model.run()\n"
   ]
  },
  {
   "cell_type": "code",
   "execution_count": 45,
   "id": "2cecaabb",
   "metadata": {},
   "outputs": [
    {
     "data": {
      "text/plain": [
       "<AxesSubplot:>"
      ]
     },
     "execution_count": 45,
     "metadata": {},
     "output_type": "execute_result"
    },
    {
     "data": {
      "image/png": "[encoded data removed]",
      "text/plain": [
       "<Figure size 432x288 with 1 Axes>"
      ]
     },
     "metadata": {
      "needs_background": "light"
     },
     "output_type": "display_data"
    }
   ],
   "source": [
    "model_output.plot(y=\"progression\")"
   ]
  },
  {
   "cell_type": "markdown",
   "id": "67587ae6",
   "metadata": {},
   "source": [
    "## Calibration"
   ]
  },
  {
   "cell_type": "code",
   "execution_count": 46,
   "id": "8fec91e2",
   "metadata": {},
   "outputs": [],
   "source": [
    "#Set up observable and claibration parameters\n",
    "observable = \"progression\"\n",
    "parameter1 = 'transmission rate'\n",
    "parameter2 = 'relapse rate'\n",
    "parameter3 = 'initial incident'\n",
    "parameter4=\"progression rate\"\n",
    "parameter5 = 'initial latent'\n",
    "parameter6 = 'progression time'\n",
    "\n",
    "\n",
    "\n",
    "\n",
    "def error(param_list):\n",
    "    #unpack the parameter list\n",
    "    parameter1_value,parameter2_value,parameter3_value,parameter4_value,parameter5_value,parameter6_value = param_list\n",
    "    #run the model with the new parameters, returning the info we're interested in\n",
    "    result = model.run(params={'transmission rate':parameter1_value,\n",
    "                               'relapse rate':parameter2_value,\n",
    "                               'initial incident': parameter3_value,\n",
    "                               \"progression rate\":parameter4_value,\n",
    "                               'initial latent': parameter5_value,\n",
    "                               'progression time': parameter6_value\n",
    "                              },\n",
    "                       return_columns=['progression'])\n",
    "    #print(result['progression'] -data['Mean'])\n",
    "    \n",
    "    result=result.reset_index(drop=True)\n",
    "    #print(result)\n",
    "    calDat=data.reset_index(drop=True)\n",
    "    calDat=calDat[\"Mean\"]\n",
    "    \n",
    "    error=sum((result['progression'] - calDat)**2)\n",
    "    #print(error)\n",
    "    #return the sum of the squared errors\n",
    "    return  error"
   ]
  },
  {
   "cell_type": "code",
   "execution_count": 47,
   "id": "3dbf9514",
   "metadata": {},
   "outputs": [
    {
     "data": {
      "text/plain": [
       "      fun: 12451393942.95793\n",
       " hess_inv: <6x6 LbfgsInvHessProduct with dtype=float64>\n",
       "      jac: array([ 1.36827659e+08,  1.74357467e+11, -1.23832558e+04,  5.16590119e+08,\n",
       "        2.73066667e+03,  8.36086278e+07])\n",
       "  message: 'CONVERGENCE: REL_REDUCTION_OF_F_<=_FACTR*EPSMCH'\n",
       "     nfev: 693\n",
       "      nit: 59\n",
       "     njev: 99\n",
       "   status: 0\n",
       "  success: True\n",
       "        x: array([5.10318260e-01, 4.00000000e-03, 9.03132638e+05, 9.02703057e-02,\n",
       "       2.17238147e+06, 3.40954528e+00])"
      ]
     },
     "execution_count": 47,
     "metadata": {},
     "output_type": "execute_result"
    }
   ],
   "source": [
    "parameter1_guess = 0.05\n",
    "parameter1_bounds = (0.0, 1)\n",
    "\n",
    "parameter2_guess = 0.1\n",
    "parameter2_bounds = (0.004, 0.1)\n",
    "\n",
    "parameter3_guess = 100000\n",
    "parameter3_bounds = (1, 3000000)\n",
    "\n",
    "parameter4_guess = 0.08\n",
    "parameter4_bounds = (0, 0.2)\n",
    "\n",
    "\n",
    "parameter5_guess = 100000\n",
    "parameter5_bounds = (1, 3000000)\n",
    "\n",
    "parameter6_guess = 2\n",
    "parameter6_bounds = (1,5)\n",
    "\n",
    "\n",
    "\n",
    "res = sp.optimize.minimize(error,\n",
    "                           x0=[parameter1_guess,parameter2_guess,parameter3_guess,parameter4_guess,parameter5_guess,parameter6_guess],\n",
    "                           method='L-BFGS-B',\n",
    "                           bounds=[parameter1_bounds,parameter2_bounds,parameter3_bounds,parameter4_bounds,parameter5_bounds,parameter6_bounds])\n",
    "res"
   ]
  },
  {
   "cell_type": "code",
   "execution_count": 48,
   "id": "7f2f6c4f",
   "metadata": {},
   "outputs": [
    {
     "data": {
      "text/html": [
       "<div>\n",
       "<style scoped>\n",
       "    .dataframe tbody tr th:only-of-type {\n",
       "        vertical-align: middle;\n",
       "    }\n",
       "\n",
       "    .dataframe tbody tr th {\n",
       "        vertical-align: top;\n",
       "    }\n",
       "\n",
       "    .dataframe thead th {\n",
       "        text-align: right;\n",
       "    }\n",
       "</style>\n",
       "<table border=\"1\" class=\"dataframe\">\n",
       "  <thead>\n",
       "    <tr style=\"text-align: right;\">\n",
       "      <th></th>\n",
       "      <th>progression</th>\n",
       "    </tr>\n",
       "  </thead>\n",
       "  <tbody>\n",
       "    <tr>\n",
       "      <th>2000</th>\n",
       "      <td>196101.539558</td>\n",
       "    </tr>\n",
       "    <tr>\n",
       "      <th>2001</th>\n",
       "      <td>196101.539558</td>\n",
       "    </tr>\n",
       "    <tr>\n",
       "      <th>2002</th>\n",
       "      <td>201647.966528</td>\n",
       "    </tr>\n",
       "    <tr>\n",
       "      <th>2003</th>\n",
       "      <td>206872.517169</td>\n",
       "    </tr>\n",
       "    <tr>\n",
       "      <th>2004</th>\n",
       "      <td>210018.357696</td>\n",
       "    </tr>\n",
       "    <tr>\n",
       "      <th>2005</th>\n",
       "      <td>210945.728990</td>\n",
       "    </tr>\n",
       "    <tr>\n",
       "      <th>2006</th>\n",
       "      <td>210051.499870</td>\n",
       "    </tr>\n",
       "    <tr>\n",
       "      <th>2007</th>\n",
       "      <td>207828.738192</td>\n",
       "    </tr>\n",
       "    <tr>\n",
       "      <th>2008</th>\n",
       "      <td>204709.363404</td>\n",
       "    </tr>\n",
       "    <tr>\n",
       "      <th>2009</th>\n",
       "      <td>201025.518480</td>\n",
       "    </tr>\n",
       "    <tr>\n",
       "      <th>2010</th>\n",
       "      <td>197015.735578</td>\n",
       "    </tr>\n",
       "    <tr>\n",
       "      <th>2011</th>\n",
       "      <td>192844.172848</td>\n",
       "    </tr>\n",
       "    <tr>\n",
       "      <th>2012</th>\n",
       "      <td>188620.441489</td>\n",
       "    </tr>\n",
       "    <tr>\n",
       "      <th>2013</th>\n",
       "      <td>184415.955933</td>\n",
       "    </tr>\n",
       "    <tr>\n",
       "      <th>2014</th>\n",
       "      <td>180276.161523</td>\n",
       "    </tr>\n",
       "    <tr>\n",
       "      <th>2015</th>\n",
       "      <td>176229.198100</td>\n",
       "    </tr>\n",
       "    <tr>\n",
       "      <th>2016</th>\n",
       "      <td>172291.835861</td>\n",
       "    </tr>\n",
       "    <tr>\n",
       "      <th>2017</th>\n",
       "      <td>168473.452892</td>\n",
       "    </tr>\n",
       "    <tr>\n",
       "      <th>2018</th>\n",
       "      <td>164778.660060</td>\n",
       "    </tr>\n",
       "    <tr>\n",
       "      <th>2019</th>\n",
       "      <td>161209.014951</td>\n",
       "    </tr>\n",
       "    <tr>\n",
       "      <th>2020</th>\n",
       "      <td>157764.132912</td>\n",
       "    </tr>\n",
       "    <tr>\n",
       "      <th>2021</th>\n",
       "      <td>154400.594721</td>\n",
       "    </tr>\n",
       "  </tbody>\n",
       "</table>\n",
       "</div>"
      ],
      "text/plain": [
       "        progression\n",
       "2000  196101.539558\n",
       "2001  196101.539558\n",
       "2002  201647.966528\n",
       "2003  206872.517169\n",
       "2004  210018.357696\n",
       "2005  210945.728990\n",
       "2006  210051.499870\n",
       "2007  207828.738192\n",
       "2008  204709.363404\n",
       "2009  201025.518480\n",
       "2010  197015.735578\n",
       "2011  192844.172848\n",
       "2012  188620.441489\n",
       "2013  184415.955933\n",
       "2014  180276.161523\n",
       "2015  176229.198100\n",
       "2016  172291.835861\n",
       "2017  168473.452892\n",
       "2018  164778.660060\n",
       "2019  161209.014951\n",
       "2020  157764.132912\n",
       "2021  154400.594721"
      ]
     },
     "execution_count": 48,
     "metadata": {},
     "output_type": "execute_result"
    }
   ],
   "source": [
    "p1, p2, p3,p4,p5,p6= res.x\n",
    "result = model.run(params=\n",
    "                   {\n",
    "                       'transmission rate':p1,\n",
    "                               'relapse rate':p2,\n",
    "                               'initial incident': p3,\n",
    "                               \"progression rate\":p4,\n",
    "                       'initial latent': p5,\n",
    "                       'progression time': p6\n",
    "                   },\n",
    "                   return_columns=['progression'])\n",
    "\n",
    "result"
   ]
  },
  {
   "cell_type": "code",
   "execution_count": null,
   "id": "7d56860e",
   "metadata": {},
   "outputs": [],
   "source": []
  },
  {
   "cell_type": "code",
   "execution_count": 49,
   "id": "2d6bb0a7",
   "metadata": {},
   "outputs": [
    {
     "data": {
      "text/plain": [
       "<matplotlib.legend.Legend at 0x7fd20034b940>"
      ]
     },
     "execution_count": 49,
     "metadata": {},
     "output_type": "execute_result"
    },
    {
     "data": {
      "image/png": "[encoded data removed]",
      "text/plain": [
       "<Figure size 432x288 with 1 Axes>"
      ]
     },
     "metadata": {
      "needs_background": "light"
     },
     "output_type": "display_data"
    }
   ],
   "source": [
    "plt.plot(result.index, result['progression'],label=\"model\")\n",
    "plt.plot(data[\"year\"], data['Mean'], label='WHO_mean');\n",
    "plt.plot(data[\"year\"], data['Lower'], label='WHO_lower');\n",
    "plt.plot(data[\"year\"], data['Upper'], label='WHO_upper');\n",
    "plt.xlabel('Time [Years]')\n",
    "plt.ylabel('Progression')\n",
    "\n",
    "plt.title('Model fit to Progression')\n",
    "plt.legend(loc='upper right')\n",
    "#plt.text(30,750000000, 'RMSE: 7.39% of Max', color='r', fontsize=12)"
   ]
  },
  {
   "cell_type": "markdown",
   "id": "9737f6d1",
   "metadata": {},
   "source": [
    "## Explore Calibrated"
   ]
  },
  {
   "cell_type": "code",
   "execution_count": null,
   "id": "8c8f0884",
   "metadata": {},
   "outputs": [],
   "source": [
    "model_cal = pysd.read_vensim(\"/Users/adenooy/Library/CloudStorage/OneDrive-Personal/UVA/Thesis/MSc-Thesis/model/transmission/V11_years_cal.mdl\")"
   ]
  },
  {
   "cell_type": "code",
   "execution_count": null,
   "id": "11f86409",
   "metadata": {},
   "outputs": [],
   "source": [
    "model_cal_output = model_cal.run()\n",
    "display(model_cal_output)"
   ]
  },
  {
   "cell_type": "code",
   "execution_count": null,
   "id": "764dee23",
   "metadata": {},
   "outputs": [],
   "source": [
    "plt.plot(model_cal_output.index, model_cal_output['progression'],label=\"model\")\n",
    "plt.plot(data[\"year\"], data['Mean'], label='WHO_mean');\n",
    "plt.plot(data[\"year\"], data['Lower'], label='WHO_lower');\n",
    "plt.plot(data[\"year\"], data['Upper'], label='WHO_upper');\n",
    "plt.xlabel('Time [Years]')\n",
    "plt.ylabel('Progression')\n",
    "plt.title('Model fit to Progression')\n",
    "plt.legend(loc='upper right')\n",
    "#plt.text(30,750000000, 'RMSE: 7.39% of Max', color='r', fontsize=12)"
   ]
  },
  {
   "cell_type": "code",
   "execution_count": null,
   "id": "b1be35f4",
   "metadata": {},
   "outputs": [],
   "source": []
  },
  {
   "cell_type": "code",
   "execution_count": null,
   "id": "d4163542",
   "metadata": {},
   "outputs": [],
   "source": []
  },
  {
   "cell_type": "code",
   "execution_count": null,
   "id": "b9a0e5f0",
   "metadata": {},
   "outputs": [],
   "source": [
    "\n"
   ]
  },
  {
   "cell_type": "code",
   "execution_count": null,
   "id": "1dd72429",
   "metadata": {},
   "outputs": [],
   "source": []
  },
  {
   "cell_type": "code",
   "execution_count": null,
   "id": "fb69e182",
   "metadata": {},
   "outputs": [],
   "source": []
  }
 ],
 "metadata": {
  "kernelspec": {
   "display_name": "Python 3 (ipykernel)",
   "language": "python",
   "name": "python3"
  },
  "language_info": {
   "codemirror_mode": {
    "name": "ipython",
    "version": 3
   },
   "file_extension": ".py",
   "mimetype": "text/x-python",
   "name": "python",
   "nbconvert_exporter": "python",
   "pygments_lexer": "ipython3",
   "version": "3.9.12"
  }
 },
 "nbformat": 4,
 "nbformat_minor": 5
}
