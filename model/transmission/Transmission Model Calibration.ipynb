{
 "cells": [
  {
   "cell_type": "code",
   "execution_count": 1,
   "id": "5a2fd6e5",
   "metadata": {},
   "outputs": [],
   "source": [
    "import warnings\n",
    "\n",
    "import matplotlib.pyplot as plt\n",
    "import numpy as np\n",
    "import pandas as pd\n",
    "import pysd\n",
    "from SALib.sample import saltelli\n",
    "from SALib.analyze import sobol\n",
    "import scipy as sp"
   ]
  },
  {
   "cell_type": "markdown",
   "id": "1eef251e",
   "metadata": {},
   "source": [
    "# Load Calibration data"
   ]
  },
  {
   "cell_type": "code",
   "execution_count": 3,
   "id": "6907a89c",
   "metadata": {},
   "outputs": [
    {
     "data": {
      "text/html": [
       "<div>\n",
       "<style scoped>\n",
       "    .dataframe tbody tr th:only-of-type {\n",
       "        vertical-align: middle;\n",
       "    }\n",
       "\n",
       "    .dataframe tbody tr th {\n",
       "        vertical-align: top;\n",
       "    }\n",
       "\n",
       "    .dataframe thead th {\n",
       "        text-align: right;\n",
       "    }\n",
       "</style>\n",
       "<table border=\"1\" class=\"dataframe\">\n",
       "  <thead>\n",
       "    <tr style=\"text-align: right;\">\n",
       "      <th></th>\n",
       "      <th>year</th>\n",
       "      <th>var</th>\n",
       "      <th>Lower</th>\n",
       "      <th>Mean</th>\n",
       "      <th>Upper</th>\n",
       "    </tr>\n",
       "  </thead>\n",
       "  <tbody>\n",
       "    <tr>\n",
       "      <th>0</th>\n",
       "      <td>2000</td>\n",
       "      <td>e_inc_num</td>\n",
       "      <td>56000</td>\n",
       "      <td>139000</td>\n",
       "      <td>259000</td>\n",
       "    </tr>\n",
       "    <tr>\n",
       "      <th>1</th>\n",
       "      <td>2001</td>\n",
       "      <td>e_inc_num</td>\n",
       "      <td>57000</td>\n",
       "      <td>159000</td>\n",
       "      <td>312000</td>\n",
       "    </tr>\n",
       "    <tr>\n",
       "      <th>2</th>\n",
       "      <td>2002</td>\n",
       "      <td>e_inc_num</td>\n",
       "      <td>57000</td>\n",
       "      <td>175000</td>\n",
       "      <td>357000</td>\n",
       "    </tr>\n",
       "    <tr>\n",
       "      <th>3</th>\n",
       "      <td>2003</td>\n",
       "      <td>e_inc_num</td>\n",
       "      <td>54000</td>\n",
       "      <td>206000</td>\n",
       "      <td>456000</td>\n",
       "    </tr>\n",
       "    <tr>\n",
       "      <th>4</th>\n",
       "      <td>2004</td>\n",
       "      <td>e_inc_num</td>\n",
       "      <td>54000</td>\n",
       "      <td>221000</td>\n",
       "      <td>501000</td>\n",
       "    </tr>\n",
       "  </tbody>\n",
       "</table>\n",
       "</div>"
      ],
      "text/plain": [
       "   year        var  Lower    Mean   Upper\n",
       "0  2000  e_inc_num  56000  139000  259000\n",
       "1  2001  e_inc_num  57000  159000  312000\n",
       "2  2002  e_inc_num  57000  175000  357000\n",
       "3  2003  e_inc_num  54000  206000  456000\n",
       "4  2004  e_inc_num  54000  221000  501000"
      ]
     },
     "execution_count": 3,
     "metadata": {},
     "output_type": "execute_result"
    }
   ],
   "source": [
    "data = pd.read_csv(\"/Users/adenooy/Library/CloudStorage/OneDrive-Personal/UVA/Thesis/MSc-Thesis/data/dynamic/calibration_incidence.csv\", sep=',',decimal='.')\n",
    "data=data.drop(\"Unnamed: 0\",axis=1)\n",
    "data.head()"
   ]
  },
  {
   "cell_type": "code",
   "execution_count": 5,
   "id": "c8c61c33",
   "metadata": {},
   "outputs": [
    {
     "data": {
      "text/plain": [
       "Text(0.5, 1.0, 'Estimated Incident cases of TB')"
      ]
     },
     "execution_count": 5,
     "metadata": {},
     "output_type": "execute_result"
    },
    {
     "data": {
      "image/png": "[encoded data removed]",
      "text/plain": [
       "<Figure size 432x288 with 1 Axes>"
      ]
     },
     "metadata": {
      "needs_background": "light"
     },
     "output_type": "display_data"
    }
   ],
   "source": [
    "plt.plot(data[\"year\"], data['Mean'],label=\"mean_estimate\",color=\"green\")\n",
    "#plt=dataSoil.plot(x=\"days\",y=\"bacteria_measured\")\n",
    "plt.xlabel('Years')\n",
    "plt.ylabel('Estimated Incidence')\n",
    "plt.title(\"Estimated Incident cases of TB\",pad=20)"
   ]
  },
  {
   "cell_type": "markdown",
   "id": "cb7b1ce7",
   "metadata": {},
   "source": [
    "# Load Model"
   ]
  },
  {
   "cell_type": "code",
   "execution_count": 8,
   "id": "f0d81644",
   "metadata": {},
   "outputs": [],
   "source": [
    "model = pysd.read_vensim(\"/Users/adenooy/Library/CloudStorage/OneDrive-Personal/UVA/Thesis/MSc-Thesis/model/transmission/V4.mdl\")"
   ]
  },
  {
   "cell_type": "code",
   "execution_count": 9,
   "id": "c44e791e",
   "metadata": {},
   "outputs": [
    {
     "data": {
      "text/html": [
       "<div>\n",
       "<style scoped>\n",
       "    .dataframe tbody tr th:only-of-type {\n",
       "        vertical-align: middle;\n",
       "    }\n",
       "\n",
       "    .dataframe tbody tr th {\n",
       "        vertical-align: top;\n",
       "    }\n",
       "\n",
       "    .dataframe thead th {\n",
       "        text-align: right;\n",
       "    }\n",
       "</style>\n",
       "<table border=\"1\" class=\"dataframe\">\n",
       "  <thead>\n",
       "    <tr style=\"text-align: right;\">\n",
       "      <th></th>\n",
       "      <th>FINAL TIME</th>\n",
       "      <th>INITIAL TIME</th>\n",
       "      <th>SAVEPER</th>\n",
       "      <th>TIME STEP</th>\n",
       "      <th>total pop</th>\n",
       "      <th>birth rate</th>\n",
       "      <th>births</th>\n",
       "      <th>infection</th>\n",
       "      <th>CFR</th>\n",
       "      <th>deaths A</th>\n",
       "      <th>...</th>\n",
       "      <th>Active</th>\n",
       "      <th>CDR</th>\n",
       "      <th>Detected and Treated TB</th>\n",
       "      <th>Detection</th>\n",
       "      <th>relapse rate</th>\n",
       "      <th>Susceptible</th>\n",
       "      <th>Relapse</th>\n",
       "      <th>force of infection</th>\n",
       "      <th>progression</th>\n",
       "      <th>progression rate</th>\n",
       "    </tr>\n",
       "  </thead>\n",
       "  <tbody>\n",
       "    <tr>\n",
       "      <th>2000</th>\n",
       "      <td>2023</td>\n",
       "      <td>2000</td>\n",
       "      <td>1</td>\n",
       "      <td>1</td>\n",
       "      <td>3.049400e+07</td>\n",
       "      <td>0.035</td>\n",
       "      <td>1.067290e+06</td>\n",
       "      <td>683.741064</td>\n",
       "      <td>0</td>\n",
       "      <td>1112.000000</td>\n",
       "      <td>...</td>\n",
       "      <td>139000.000000</td>\n",
       "      <td>0.46</td>\n",
       "      <td>55000.000000</td>\n",
       "      <td>63940.000000</td>\n",
       "      <td>0.001</td>\n",
       "      <td>3.000000e+07</td>\n",
       "      <td>55.000000</td>\n",
       "      <td>0.005</td>\n",
       "      <td>3000.000000</td>\n",
       "      <td>0.01</td>\n",
       "    </tr>\n",
       "    <tr>\n",
       "      <th>2001</th>\n",
       "      <td>2023</td>\n",
       "      <td>2000</td>\n",
       "      <td>1</td>\n",
       "      <td>1</td>\n",
       "      <td>3.131734e+07</td>\n",
       "      <td>0.035</td>\n",
       "      <td>1.096107e+06</td>\n",
       "      <td>378.981950</td>\n",
       "      <td>0</td>\n",
       "      <td>616.024000</td>\n",
       "      <td>...</td>\n",
       "      <td>77003.000000</td>\n",
       "      <td>0.46</td>\n",
       "      <td>118445.000000</td>\n",
       "      <td>35421.380000</td>\n",
       "      <td>0.001</td>\n",
       "      <td>3.082661e+07</td>\n",
       "      <td>118.445000</td>\n",
       "      <td>0.005</td>\n",
       "      <td>2952.837411</td>\n",
       "      <td>0.01</td>\n",
       "    </tr>\n",
       "    <tr>\n",
       "      <th>2002</th>\n",
       "      <td>2023</td>\n",
       "      <td>2000</td>\n",
       "      <td>1</td>\n",
       "      <td>1</td>\n",
       "      <td>3.216291e+07</td>\n",
       "      <td>0.035</td>\n",
       "      <td>1.125702e+06</td>\n",
       "      <td>216.849168</td>\n",
       "      <td>0</td>\n",
       "      <td>352.295027</td>\n",
       "      <td>...</td>\n",
       "      <td>44036.878411</td>\n",
       "      <td>0.46</td>\n",
       "      <td>152800.375000</td>\n",
       "      <td>20256.964069</td>\n",
       "      <td>0.001</td>\n",
       "      <td>3.167572e+07</td>\n",
       "      <td>152.800375</td>\n",
       "      <td>0.005</td>\n",
       "      <td>2903.476157</td>\n",
       "      <td>0.01</td>\n",
       "    </tr>\n",
       "    <tr>\n",
       "      <th>2003</th>\n",
       "      <td>2023</td>\n",
       "      <td>2000</td>\n",
       "      <td>1</td>\n",
       "      <td>1</td>\n",
       "      <td>3.303130e+07</td>\n",
       "      <td>0.035</td>\n",
       "      <td>1.156096e+06</td>\n",
       "      <td>130.481155</td>\n",
       "      <td>0</td>\n",
       "      <td>211.871167</td>\n",
       "      <td>...</td>\n",
       "      <td>26483.895846</td>\n",
       "      <td>0.46</td>\n",
       "      <td>171682.135694</td>\n",
       "      <td>12182.592089</td>\n",
       "      <td>0.001</td>\n",
       "      <td>3.254780e+07</td>\n",
       "      <td>171.682136</td>\n",
       "      <td>0.005</td>\n",
       "      <td>2853.382078</td>\n",
       "      <td>0.01</td>\n",
       "    </tr>\n",
       "    <tr>\n",
       "      <th>2004</th>\n",
       "      <td>2023</td>\n",
       "      <td>2000</td>\n",
       "      <td>1</td>\n",
       "      <td>1</td>\n",
       "      <td>3.392315e+07</td>\n",
       "      <td>0.035</td>\n",
       "      <td>1.187310e+06</td>\n",
       "      <td>84.362254</td>\n",
       "      <td>0</td>\n",
       "      <td>136.915974</td>\n",
       "      <td>...</td>\n",
       "      <td>17114.496803</td>\n",
       "      <td>0.46</td>\n",
       "      <td>182319.588562</td>\n",
       "      <td>7872.668530</td>\n",
       "      <td>0.001</td>\n",
       "      <td>3.344338e+07</td>\n",
       "      <td>182.319589</td>\n",
       "      <td>0.005</td>\n",
       "      <td>2803.326012</td>\n",
       "      <td>0.01</td>\n",
       "    </tr>\n",
       "  </tbody>\n",
       "</table>\n",
       "<p>5 rows × 27 columns</p>\n",
       "</div>"
      ],
      "text/plain": [
       "      FINAL TIME  INITIAL TIME  SAVEPER  TIME STEP     total pop  birth rate  \\\n",
       "2000        2023          2000        1          1  3.049400e+07       0.035   \n",
       "2001        2023          2000        1          1  3.131734e+07       0.035   \n",
       "2002        2023          2000        1          1  3.216291e+07       0.035   \n",
       "2003        2023          2000        1          1  3.303130e+07       0.035   \n",
       "2004        2023          2000        1          1  3.392315e+07       0.035   \n",
       "\n",
       "            births   infection  CFR     deaths A  ...         Active   CDR  \\\n",
       "2000  1.067290e+06  683.741064    0  1112.000000  ...  139000.000000  0.46   \n",
       "2001  1.096107e+06  378.981950    0   616.024000  ...   77003.000000  0.46   \n",
       "2002  1.125702e+06  216.849168    0   352.295027  ...   44036.878411  0.46   \n",
       "2003  1.156096e+06  130.481155    0   211.871167  ...   26483.895846  0.46   \n",
       "2004  1.187310e+06   84.362254    0   136.915974  ...   17114.496803  0.46   \n",
       "\n",
       "      Detected and Treated TB     Detection  relapse rate   Susceptible  \\\n",
       "2000             55000.000000  63940.000000         0.001  3.000000e+07   \n",
       "2001            118445.000000  35421.380000         0.001  3.082661e+07   \n",
       "2002            152800.375000  20256.964069         0.001  3.167572e+07   \n",
       "2003            171682.135694  12182.592089         0.001  3.254780e+07   \n",
       "2004            182319.588562   7872.668530         0.001  3.344338e+07   \n",
       "\n",
       "         Relapse  force of infection  progression  progression rate  \n",
       "2000   55.000000               0.005  3000.000000              0.01  \n",
       "2001  118.445000               0.005  2952.837411              0.01  \n",
       "2002  152.800375               0.005  2903.476157              0.01  \n",
       "2003  171.682136               0.005  2853.382078              0.01  \n",
       "2004  182.319589               0.005  2803.326012              0.01  \n",
       "\n",
       "[5 rows x 27 columns]"
      ]
     },
     "metadata": {},
     "output_type": "display_data"
    }
   ],
   "source": [
    "model_output = model.run()\n",
    "display(model_output.head(5))"
   ]
  },
  {
   "cell_type": "code",
   "execution_count": 11,
   "id": "cacf5c68",
   "metadata": {},
   "outputs": [
    {
     "data": {
      "text/plain": [
       "<AxesSubplot:>"
      ]
     },
     "execution_count": 11,
     "metadata": {},
     "output_type": "execute_result"
    },
    {
     "data": {
      "image/png": "[encoded data removed]",
      "text/plain": [
       "<Figure size 432x288 with 1 Axes>"
      ]
     },
     "metadata": {
      "needs_background": "light"
     },
     "output_type": "display_data"
    }
   ],
   "source": [
    "model_output.plot(y=\"Active\")"
   ]
  },
  {
   "cell_type": "markdown",
   "id": "f55eca74",
   "metadata": {},
   "source": [
    "# Calibration"
   ]
  },
  {
   "cell_type": "code",
   "execution_count": null,
   "id": "34c8db07",
   "metadata": {},
   "outputs": [],
   "source": [
    "#Set up observable and claibration parameter\n",
    "observable = \"Mortality due to diarrhoea\"\n",
    "parameter1 = 'gdp delay'\n",
    "parameter2 = 'Gdp fractional effect'\n",
    "parameter4=\"General Rate of disease\"\n",
    "parameter5=\"Rate of death untreated\"\n",
    "parameter6 = 'Gdp fractional effect 2'\n",
    "\n",
    "\n",
    "def error(param_list):\n",
    "    #unpack the parameter list\n",
    "    parameter1_value, parameter2_value,parameter4_value,parameter5_value,parameter6_value = param_list\n",
    "    #run the model with the new parameters, returning the info we're interested in\n",
    "    result = model.run(params={'gdp delay':parameter1_value,\n",
    "                               'Gdp fractional effect':parameter2_value,\n",
    "                               \"General Rate of disease\":parameter4_value,\n",
    "                               \"Rate of death untreated\":parameter5_value,\n",
    "                               'Gdp fractional effect 2':parameter6_value,\n",
    "                              },\n",
    "                       return_columns=['Mortality due to diarrhoea'],\n",
    "                       return_timestamps=list(mortality.index.values))\n",
    "    #return the sum of the squared errors\n",
    "    return sum((result['Mortality due to diarrhoea'] - mortality['mean'])**2)"
   ]
  },
  {
   "cell_type": "code",
   "execution_count": null,
   "id": "238ce7ec",
   "metadata": {},
   "outputs": [],
   "source": []
  },
  {
   "cell_type": "code",
   "execution_count": null,
   "id": "2c30db3b",
   "metadata": {},
   "outputs": [],
   "source": []
  },
  {
   "cell_type": "code",
   "execution_count": null,
   "id": "a6079417",
   "metadata": {},
   "outputs": [],
   "source": []
  }
 ],
 "metadata": {
  "kernelspec": {
   "display_name": "Python 3 (ipykernel)",
   "language": "python",
   "name": "python3"
  },
  "language_info": {
   "codemirror_mode": {
    "name": "ipython",
    "version": 3
   },
   "file_extension": ".py",
   "mimetype": "text/x-python",
   "name": "python",
   "nbconvert_exporter": "python",
   "pygments_lexer": "ipython3",
   "version": "3.9.12"
  }
 },
 "nbformat": 4,
 "nbformat_minor": 5
}
