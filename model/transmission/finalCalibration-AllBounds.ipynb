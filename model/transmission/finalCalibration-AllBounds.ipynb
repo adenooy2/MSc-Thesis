{
 "cells": [
  {
   "cell_type": "code",
   "execution_count": 1,
   "id": "3c384025",
   "metadata": {},
   "outputs": [],
   "source": [
    "import warnings\n",
    "\n",
    "import matplotlib.pyplot as plt\n",
    "import numpy as np\n",
    "import pandas as pd\n",
    "import pysd\n",
    "from SALib.sample import saltelli\n",
    "from SALib.analyze import sobol\n",
    "import scipy as sp"
   ]
  },
  {
   "cell_type": "markdown",
   "id": "4088050f",
   "metadata": {},
   "source": [
    "# Load Calibration data"
   ]
  },
  {
   "cell_type": "code",
   "execution_count": 2,
   "id": "a3de1c2a",
   "metadata": {},
   "outputs": [
    {
     "data": {
      "text/html": [
       "<div>\n",
       "<style scoped>\n",
       "    .dataframe tbody tr th:only-of-type {\n",
       "        vertical-align: middle;\n",
       "    }\n",
       "\n",
       "    .dataframe tbody tr th {\n",
       "        vertical-align: top;\n",
       "    }\n",
       "\n",
       "    .dataframe thead th {\n",
       "        text-align: right;\n",
       "    }\n",
       "</style>\n",
       "<table border=\"1\" class=\"dataframe\">\n",
       "  <thead>\n",
       "    <tr style=\"text-align: right;\">\n",
       "      <th></th>\n",
       "      <th>year</th>\n",
       "      <th>var</th>\n",
       "      <th>Lower</th>\n",
       "      <th>Mean</th>\n",
       "      <th>Upper</th>\n",
       "    </tr>\n",
       "  </thead>\n",
       "  <tbody>\n",
       "    <tr>\n",
       "      <th>0</th>\n",
       "      <td>2000</td>\n",
       "      <td>e_inc_num</td>\n",
       "      <td>56000</td>\n",
       "      <td>139000</td>\n",
       "      <td>259000</td>\n",
       "    </tr>\n",
       "    <tr>\n",
       "      <th>1</th>\n",
       "      <td>2001</td>\n",
       "      <td>e_inc_num</td>\n",
       "      <td>57000</td>\n",
       "      <td>159000</td>\n",
       "      <td>312000</td>\n",
       "    </tr>\n",
       "    <tr>\n",
       "      <th>2</th>\n",
       "      <td>2002</td>\n",
       "      <td>e_inc_num</td>\n",
       "      <td>57000</td>\n",
       "      <td>175000</td>\n",
       "      <td>357000</td>\n",
       "    </tr>\n",
       "    <tr>\n",
       "      <th>3</th>\n",
       "      <td>2003</td>\n",
       "      <td>e_inc_num</td>\n",
       "      <td>54000</td>\n",
       "      <td>206000</td>\n",
       "      <td>456000</td>\n",
       "    </tr>\n",
       "    <tr>\n",
       "      <th>4</th>\n",
       "      <td>2004</td>\n",
       "      <td>e_inc_num</td>\n",
       "      <td>54000</td>\n",
       "      <td>221000</td>\n",
       "      <td>501000</td>\n",
       "    </tr>\n",
       "    <tr>\n",
       "      <th>5</th>\n",
       "      <td>2005</td>\n",
       "      <td>e_inc_num</td>\n",
       "      <td>56000</td>\n",
       "      <td>226000</td>\n",
       "      <td>510000</td>\n",
       "    </tr>\n",
       "    <tr>\n",
       "      <th>6</th>\n",
       "      <td>2006</td>\n",
       "      <td>e_inc_num</td>\n",
       "      <td>56000</td>\n",
       "      <td>239000</td>\n",
       "      <td>549000</td>\n",
       "    </tr>\n",
       "    <tr>\n",
       "      <th>7</th>\n",
       "      <td>2007</td>\n",
       "      <td>e_inc_num</td>\n",
       "      <td>60000</td>\n",
       "      <td>235000</td>\n",
       "      <td>525000</td>\n",
       "    </tr>\n",
       "    <tr>\n",
       "      <th>8</th>\n",
       "      <td>2008</td>\n",
       "      <td>e_inc_num</td>\n",
       "      <td>66000</td>\n",
       "      <td>221000</td>\n",
       "      <td>467000</td>\n",
       "    </tr>\n",
       "    <tr>\n",
       "      <th>9</th>\n",
       "      <td>2009</td>\n",
       "      <td>e_inc_num</td>\n",
       "      <td>68000</td>\n",
       "      <td>228000</td>\n",
       "      <td>483000</td>\n",
       "    </tr>\n",
       "    <tr>\n",
       "      <th>10</th>\n",
       "      <td>2010</td>\n",
       "      <td>e_inc_num</td>\n",
       "      <td>72000</td>\n",
       "      <td>220000</td>\n",
       "      <td>449000</td>\n",
       "    </tr>\n",
       "    <tr>\n",
       "      <th>11</th>\n",
       "      <td>2011</td>\n",
       "      <td>e_inc_num</td>\n",
       "      <td>76000</td>\n",
       "      <td>216000</td>\n",
       "      <td>428000</td>\n",
       "    </tr>\n",
       "    <tr>\n",
       "      <th>12</th>\n",
       "      <td>2012</td>\n",
       "      <td>e_inc_num</td>\n",
       "      <td>79000</td>\n",
       "      <td>206000</td>\n",
       "      <td>392000</td>\n",
       "    </tr>\n",
       "    <tr>\n",
       "      <th>13</th>\n",
       "      <td>2013</td>\n",
       "      <td>e_inc_num</td>\n",
       "      <td>82000</td>\n",
       "      <td>198000</td>\n",
       "      <td>366000</td>\n",
       "    </tr>\n",
       "    <tr>\n",
       "      <th>14</th>\n",
       "      <td>2014</td>\n",
       "      <td>e_inc_num</td>\n",
       "      <td>84000</td>\n",
       "      <td>194000</td>\n",
       "      <td>349000</td>\n",
       "    </tr>\n",
       "    <tr>\n",
       "      <th>15</th>\n",
       "      <td>2015</td>\n",
       "      <td>e_inc_num</td>\n",
       "      <td>85000</td>\n",
       "      <td>178000</td>\n",
       "      <td>305000</td>\n",
       "    </tr>\n",
       "    <tr>\n",
       "      <th>16</th>\n",
       "      <td>2016</td>\n",
       "      <td>e_inc_num</td>\n",
       "      <td>86000</td>\n",
       "      <td>167000</td>\n",
       "      <td>274000</td>\n",
       "    </tr>\n",
       "    <tr>\n",
       "      <th>17</th>\n",
       "      <td>2017</td>\n",
       "      <td>e_inc_num</td>\n",
       "      <td>86000</td>\n",
       "      <td>156000</td>\n",
       "      <td>247000</td>\n",
       "    </tr>\n",
       "    <tr>\n",
       "      <th>18</th>\n",
       "      <td>2018</td>\n",
       "      <td>e_inc_num</td>\n",
       "      <td>85000</td>\n",
       "      <td>146000</td>\n",
       "      <td>223000</td>\n",
       "    </tr>\n",
       "    <tr>\n",
       "      <th>19</th>\n",
       "      <td>2019</td>\n",
       "      <td>e_inc_num</td>\n",
       "      <td>83000</td>\n",
       "      <td>136000</td>\n",
       "      <td>202000</td>\n",
       "    </tr>\n",
       "    <tr>\n",
       "      <th>20</th>\n",
       "      <td>2020</td>\n",
       "      <td>e_inc_num</td>\n",
       "      <td>82000</td>\n",
       "      <td>130000</td>\n",
       "      <td>192000</td>\n",
       "    </tr>\n",
       "    <tr>\n",
       "      <th>21</th>\n",
       "      <td>2021</td>\n",
       "      <td>e_inc_num</td>\n",
       "      <td>84000</td>\n",
       "      <td>132000</td>\n",
       "      <td>200000</td>\n",
       "    </tr>\n",
       "  </tbody>\n",
       "</table>\n",
       "</div>"
      ],
      "text/plain": [
       "    year        var  Lower    Mean   Upper\n",
       "0   2000  e_inc_num  56000  139000  259000\n",
       "1   2001  e_inc_num  57000  159000  312000\n",
       "2   2002  e_inc_num  57000  175000  357000\n",
       "3   2003  e_inc_num  54000  206000  456000\n",
       "4   2004  e_inc_num  54000  221000  501000\n",
       "5   2005  e_inc_num  56000  226000  510000\n",
       "6   2006  e_inc_num  56000  239000  549000\n",
       "7   2007  e_inc_num  60000  235000  525000\n",
       "8   2008  e_inc_num  66000  221000  467000\n",
       "9   2009  e_inc_num  68000  228000  483000\n",
       "10  2010  e_inc_num  72000  220000  449000\n",
       "11  2011  e_inc_num  76000  216000  428000\n",
       "12  2012  e_inc_num  79000  206000  392000\n",
       "13  2013  e_inc_num  82000  198000  366000\n",
       "14  2014  e_inc_num  84000  194000  349000\n",
       "15  2015  e_inc_num  85000  178000  305000\n",
       "16  2016  e_inc_num  86000  167000  274000\n",
       "17  2017  e_inc_num  86000  156000  247000\n",
       "18  2018  e_inc_num  85000  146000  223000\n",
       "19  2019  e_inc_num  83000  136000  202000\n",
       "20  2020  e_inc_num  82000  130000  192000\n",
       "21  2021  e_inc_num  84000  132000  200000"
      ]
     },
     "execution_count": 2,
     "metadata": {},
     "output_type": "execute_result"
    }
   ],
   "source": [
    "data = pd.read_csv(\"/Users/adenooy/Library/CloudStorage/OneDrive-Personal/UVA/Thesis/MSc-Thesis/data/dynamic/calibration_incidence.csv\", sep=',',decimal='.')\n",
    "data=data.drop(\"Unnamed: 0\",axis=1)\n",
    "data.head(23)\n"
   ]
  },
  {
   "cell_type": "code",
   "execution_count": 3,
   "id": "f1358c45",
   "metadata": {},
   "outputs": [
    {
     "data": {
      "text/plain": [
       "Text(0.5, 1.0, 'Estimated Incident cases of TB')"
      ]
     },
     "execution_count": 3,
     "metadata": {},
     "output_type": "execute_result"
    },
    {
     "data": {
      "image/png": "[encoded data removed]",
      "text/plain": [
       "<Figure size 432x288 with 1 Axes>"
      ]
     },
     "metadata": {
      "needs_background": "light"
     },
     "output_type": "display_data"
    }
   ],
   "source": [
    "plt.plot(data[\"year\"], data['Upper'],label=\"mean_estimate\",color=\"green\")\n",
    "plt.xlabel('Years')\n",
    "plt.ylabel('Estimated Incidence')\n",
    "plt.title(\"Estimated Incident cases of TB\",pad=20)"
   ]
  },
  {
   "cell_type": "code",
   "execution_count": null,
   "id": "1e191f04",
   "metadata": {},
   "outputs": [],
   "source": []
  },
  {
   "cell_type": "markdown",
   "id": "67420b7c",
   "metadata": {},
   "source": [
    "# Load Model"
   ]
  },
  {
   "cell_type": "code",
   "execution_count": 4,
   "id": "dc19c60c",
   "metadata": {},
   "outputs": [],
   "source": [
    "model = pysd.read_vensim(\"/Users/adenooy/Library/CloudStorage/OneDrive-Personal/UVA/Thesis/MSc-Thesis/model/transmission/V13_years.mdl\")"
   ]
  },
  {
   "cell_type": "code",
   "execution_count": 5,
   "id": "b981e79b",
   "metadata": {},
   "outputs": [],
   "source": [
    "model_output = model.run()\n"
   ]
  },
  {
   "cell_type": "code",
   "execution_count": 6,
   "id": "2cecaabb",
   "metadata": {},
   "outputs": [
    {
     "data": {
      "text/plain": [
       "<AxesSubplot:>"
      ]
     },
     "execution_count": 6,
     "metadata": {},
     "output_type": "execute_result"
    },
    {
     "data": {
      "image/png": "[encoded data removed]",
      "text/plain": [
       "<Figure size 432x288 with 1 Axes>"
      ]
     },
     "metadata": {
      "needs_background": "light"
     },
     "output_type": "display_data"
    }
   ],
   "source": [
    "model_output.plot(y=\"progression\")"
   ]
  },
  {
   "cell_type": "markdown",
   "id": "67587ae6",
   "metadata": {},
   "source": [
    "## Calibration - Mean"
   ]
  },
  {
   "cell_type": "code",
   "execution_count": 7,
   "id": "8fec91e2",
   "metadata": {},
   "outputs": [],
   "source": [
    "#Set up observable and claibration parameters\n",
    "observable = \"progression\"\n",
    "parameter1 = 'transmission rate'\n",
    "parameter2 = 'relapse rate'\n",
    "parameter3 = 'initial incident'\n",
    "parameter4=\"progression rate\"\n",
    "parameter5 = 'initial latent'\n",
    "parameter6 = 'progression time'\n",
    "\n",
    "\n",
    "\n",
    "\n",
    "def error(param_list):\n",
    "    #unpack the parameter list\n",
    "    parameter1_value,parameter2_value,parameter3_value,parameter4_value,parameter5_value,parameter6_value = param_list\n",
    "    #run the model with the new parameters, returning the info we're interested in\n",
    "    result = model.run(params={'transmission rate':parameter1_value,\n",
    "                               'relapse rate':parameter2_value,\n",
    "                               'initial incident': parameter3_value,\n",
    "                               \"progression rate\":parameter4_value,\n",
    "                               'initial latent': parameter5_value,\n",
    "                               'progression time': parameter6_value\n",
    "                              },\n",
    "                       return_columns=['progression'])\n",
    "    #print(result['progression'] -data['Mean'])\n",
    "    \n",
    "    result=result.reset_index(drop=True)\n",
    "    #print(result)\n",
    "    calDat=data.reset_index(drop=True)\n",
    "    calDat=calDat[\"Mean\"]\n",
    "    \n",
    "    error=sum((result['progression'] - calDat)**2)\n",
    "    #print(error)\n",
    "    #return the sum of the squared errors\n",
    "    return  error"
   ]
  },
  {
   "cell_type": "code",
   "execution_count": 8,
   "id": "3dbf9514",
   "metadata": {},
   "outputs": [
    {
     "data": {
      "text/plain": [
       "      fun: 823510209.12376\n",
       " hess_inv: <6x6 LbfgsInvHessProduct with dtype=float64>\n",
       "      jac: array([ 2.03380585e+06,  1.72981470e+10, -2.14325581e+02, -9.05442238e+06,\n",
       "        5.12000000e+02, -2.80356409e+05])\n",
       "  message: 'CONVERGENCE: REL_REDUCTION_OF_F_<=_FACTR*EPSMCH'\n",
       "     nfev: 1043\n",
       "      nit: 84\n",
       "     njev: 149\n",
       "   status: 0\n",
       "  success: True\n",
       "        x: array([3.68338262e-01, 4.00000000e-03, 1.97100925e+06, 1.55857374e-01,\n",
       "       9.88380716e+05, 3.96606523e+00])"
      ]
     },
     "execution_count": 8,
     "metadata": {},
     "output_type": "execute_result"
    }
   ],
   "source": [
    "parameter1_guess = 0.05\n",
    "parameter1_bounds = (0.0, 1)\n",
    "\n",
    "parameter2_guess = 0.1\n",
    "parameter2_bounds = (0.004, 0.1)\n",
    "\n",
    "parameter3_guess = 100000\n",
    "parameter3_bounds = (1, 3000000)\n",
    "\n",
    "parameter4_guess = 0.08\n",
    "parameter4_bounds = (0, 0.2)\n",
    "\n",
    "\n",
    "parameter5_guess = 100000\n",
    "parameter5_bounds = (1, 3000000)\n",
    "\n",
    "parameter6_guess = 2\n",
    "parameter6_bounds = (1,5)\n",
    "\n",
    "\n",
    "\n",
    "res = sp.optimize.minimize(error,\n",
    "                           x0=[parameter1_guess,parameter2_guess,parameter3_guess,parameter4_guess,parameter5_guess,parameter6_guess],\n",
    "                           method='L-BFGS-B',\n",
    "                           bounds=[parameter1_bounds,parameter2_bounds,parameter3_bounds,parameter4_bounds,parameter5_bounds,parameter6_bounds])\n",
    "res"
   ]
  },
  {
   "cell_type": "code",
   "execution_count": 9,
   "id": "7f2f6c4f",
   "metadata": {},
   "outputs": [],
   "source": [
    "p1, p2, p3,p4,p5,p6= res.x\n",
    "result_mean = model.run(params=\n",
    "                   {\n",
    "                       'transmission rate':p1,\n",
    "                               'relapse rate':p2,\n",
    "                               'initial incident': p3,\n",
    "                               \"progression rate\":p4,\n",
    "                       'initial latent': p5,\n",
    "                       'progression time': p6\n",
    "                   },\n",
    "                   return_columns=['progression'])\n",
    "\n"
   ]
  },
  {
   "cell_type": "markdown",
   "id": "5170e1df",
   "metadata": {},
   "source": [
    "## Calibration - Lower"
   ]
  },
  {
   "cell_type": "code",
   "execution_count": 10,
   "id": "45f74ffc",
   "metadata": {},
   "outputs": [],
   "source": [
    "#Set up observable and claibration parameters\n",
    "observable = \"progression\"\n",
    "parameter1 = 'transmission rate'\n",
    "parameter2 = 'relapse rate'\n",
    "parameter3 = 'initial incident'\n",
    "parameter4=\"progression rate\"\n",
    "parameter5 = 'initial latent'\n",
    "parameter6 = 'progression time'\n",
    "\n",
    "\n",
    "\n",
    "\n",
    "def error(param_list):\n",
    "    #unpack the parameter list\n",
    "    parameter1_value,parameter2_value,parameter3_value,parameter4_value,parameter5_value,parameter6_value = param_list\n",
    "    #run the model with the new parameters, returning the info we're interested in\n",
    "    result = model.run(params={'transmission rate':parameter1_value,\n",
    "                               'relapse rate':parameter2_value,\n",
    "                               'initial incident': parameter3_value,\n",
    "                               \"progression rate\":parameter4_value,\n",
    "                               'initial latent': parameter5_value,\n",
    "                               'progression time': parameter6_value\n",
    "                              },\n",
    "                       return_columns=['progression'])\n",
    "    #print(result['progression'] -data['Mean'])\n",
    "    \n",
    "    result=result.reset_index(drop=True)\n",
    "    #print(result)\n",
    "    calDat=data.reset_index(drop=True)\n",
    "    calDat=calDat[\"Lower\"]\n",
    "    \n",
    "    error=sum((result['progression'] - calDat)**2)\n",
    "    #print(error)\n",
    "    #return the sum of the squared errors\n",
    "    return  error"
   ]
  },
  {
   "cell_type": "code",
   "execution_count": 11,
   "id": "d37a2218",
   "metadata": {},
   "outputs": [
    {
     "data": {
      "text/plain": [
       "      fun: 555888429.5039761\n",
       " hess_inv: <6x6 LbfgsInvHessProduct with dtype=float64>\n",
       "      jac: array([-3.30371450e+08,  1.15389426e+10, -1.43091703e+03, -1.78115428e+08,\n",
       "       -1.66697674e+02, -3.80254986e+06])\n",
       "  message: 'CONVERGENCE: REL_REDUCTION_OF_F_<=_FACTR*EPSMCH'\n",
       "     nfev: 301\n",
       "      nit: 16\n",
       "     njev: 43\n",
       "   status: 0\n",
       "  success: True\n",
       "        x: array([6.20146499e-01, 4.00000000e-03, 1.23501436e+05, 1.99906191e-01,\n",
       "       2.77566403e+05, 3.89476010e+00])"
      ]
     },
     "execution_count": 11,
     "metadata": {},
     "output_type": "execute_result"
    }
   ],
   "source": [
    "parameter1_guess = 0.05\n",
    "parameter1_bounds = (0.0, 1)\n",
    "\n",
    "parameter2_guess = 0.1\n",
    "parameter2_bounds = (0.004, 0.1)\n",
    "\n",
    "parameter3_guess = 100000\n",
    "parameter3_bounds = (1, 3000000)\n",
    "\n",
    "parameter4_guess = 0.08\n",
    "parameter4_bounds = (0, 0.2)\n",
    "\n",
    "\n",
    "parameter5_guess = 100000\n",
    "parameter5_bounds = (1, 3000000)\n",
    "\n",
    "parameter6_guess = 2\n",
    "parameter6_bounds = (1,5)\n",
    "\n",
    "\n",
    "\n",
    "res = sp.optimize.minimize(error,\n",
    "                           x0=[parameter1_guess,parameter2_guess,parameter3_guess,parameter4_guess,parameter5_guess,parameter6_guess],\n",
    "                           method='L-BFGS-B',\n",
    "                           bounds=[parameter1_bounds,parameter2_bounds,parameter3_bounds,parameter4_bounds,parameter5_bounds,parameter6_bounds])\n",
    "res"
   ]
  },
  {
   "cell_type": "code",
   "execution_count": 12,
   "id": "43160c73",
   "metadata": {},
   "outputs": [],
   "source": [
    "p1, p2, p3,p4,p5,p6= res.x\n",
    "result_lower = model.run(params=\n",
    "                   {\n",
    "                       'transmission rate':p1,\n",
    "                               'relapse rate':p2,\n",
    "                               'initial incident': p3,\n",
    "                               \"progression rate\":p4,\n",
    "                       'initial latent': p5,\n",
    "                       'progression time': p6\n",
    "                   },\n",
    "                   return_columns=['progression'])"
   ]
  },
  {
   "cell_type": "markdown",
   "id": "3b07396e",
   "metadata": {},
   "source": [
    "## Calibration - Upper"
   ]
  },
  {
   "cell_type": "code",
   "execution_count": 13,
   "id": "9f8a1d02",
   "metadata": {},
   "outputs": [],
   "source": [
    "#Set up observable and claibration parameters\n",
    "observable = \"progression\"\n",
    "parameter1 = 'transmission rate'\n",
    "parameter2 = 'relapse rate'\n",
    "parameter3 = 'initial incident'\n",
    "parameter4=\"progression rate\"\n",
    "parameter5 = 'initial latent'\n",
    "parameter6 = 'progression time'\n",
    "\n",
    "\n",
    "\n",
    "\n",
    "def error(param_list):\n",
    "    #unpack the parameter list\n",
    "    parameter1_value,parameter2_value,parameter3_value,parameter4_value,parameter5_value,parameter6_value = param_list\n",
    "    #run the model with the new parameters, returning the info we're interested in\n",
    "    result = model.run(params={'transmission rate':parameter1_value,\n",
    "                               'relapse rate':parameter2_value,\n",
    "                               'initial incident': parameter3_value,\n",
    "                               \"progression rate\":parameter4_value,\n",
    "                               'initial latent': parameter5_value,\n",
    "                               'progression time': parameter6_value\n",
    "                              },\n",
    "                       return_columns=['progression'])\n",
    "    #print(result['progression'] -data['Mean'])\n",
    "    \n",
    "    result=result.reset_index(drop=True)\n",
    "    #print(result)\n",
    "    calDat=data.reset_index(drop=True)\n",
    "    calDat=calDat[\"Upper\"]\n",
    "    \n",
    "    error=sum((result['progression'] - calDat)**2)\n",
    "    #print(error)\n",
    "    #return the sum of the squared errors\n",
    "    return  error"
   ]
  },
  {
   "cell_type": "code",
   "execution_count": 14,
   "id": "c885c82d",
   "metadata": {},
   "outputs": [
    {
     "data": {
      "text/plain": [
       "      fun: 75542338440.0983\n",
       " hess_inv: <6x6 LbfgsInvHessProduct with dtype=float64>\n",
       "      jac: array([ 1.02986633e+10,  1.12346775e+12, -2.34057143e+04, -1.36877747e+09,\n",
       "        3.12076190e+04,  5.16824191e+09])\n",
       "  message: 'CONVERGENCE: REL_REDUCTION_OF_F_<=_FACTR*EPSMCH'\n",
       "     nfev: 462\n",
       "      nit: 35\n",
       "     njev: 66\n",
       "   status: 0\n",
       "  success: True\n",
       "        x: array([3.72715138e-01, 4.00000000e-03, 3.00000000e+06, 1.39324258e-01,\n",
       "       2.99188286e+06, 4.99984876e+00])"
      ]
     },
     "execution_count": 14,
     "metadata": {},
     "output_type": "execute_result"
    }
   ],
   "source": [
    "parameter1_guess = 0.05\n",
    "parameter1_bounds = (0.0, 1)\n",
    "\n",
    "parameter2_guess = 0.1\n",
    "parameter2_bounds = (0.004, 0.1)\n",
    "\n",
    "parameter3_guess = 100000\n",
    "parameter3_bounds = (1, 3000000)\n",
    "\n",
    "parameter4_guess = 0.08\n",
    "parameter4_bounds = (0, 0.2)\n",
    "\n",
    "\n",
    "parameter5_guess = 100000\n",
    "parameter5_bounds = (1, 3000000)\n",
    "\n",
    "parameter6_guess = 2\n",
    "parameter6_bounds = (1,5)\n",
    "\n",
    "\n",
    "\n",
    "res = sp.optimize.minimize(error,\n",
    "                           x0=[parameter1_guess,parameter2_guess,parameter3_guess,parameter4_guess,parameter5_guess,parameter6_guess],\n",
    "                           method='L-BFGS-B',\n",
    "                           bounds=[parameter1_bounds,parameter2_bounds,parameter3_bounds,parameter4_bounds,parameter5_bounds,parameter6_bounds])\n",
    "res"
   ]
  },
  {
   "cell_type": "code",
   "execution_count": 15,
   "id": "dc0ba399",
   "metadata": {},
   "outputs": [],
   "source": [
    "p1, p2, p3,p4,p5,p6= res.x\n",
    "result_upper = model.run(params=\n",
    "                   {\n",
    "                       'transmission rate':p1,\n",
    "                               'relapse rate':p2,\n",
    "                               'initial incident': p3,\n",
    "                               \"progression rate\":p4,\n",
    "                       'initial latent': p5,\n",
    "                       'progression time': p6\n",
    "                   },\n",
    "                   return_columns=['progression'])"
   ]
  },
  {
   "cell_type": "markdown",
   "id": "4dd024cd",
   "metadata": {},
   "source": [
    "## Plot calibrtaion results"
   ]
  },
  {
   "cell_type": "code",
   "execution_count": 31,
   "id": "2d6bb0a7",
   "metadata": {},
   "outputs": [
    {
     "data": {
      "text/plain": [
       "<matplotlib.legend.Legend at 0x7f950c3dbd90>"
      ]
     },
     "execution_count": 31,
     "metadata": {},
     "output_type": "execute_result"
    },
    {
     "data": {
      "image/png": "[encoded data removed]",
      "text/plain": [
       "<Figure size 432x288 with 1 Axes>"
      ]
     },
     "metadata": {
      "needs_background": "light"
     },
     "output_type": "display_data"
    }
   ],
   "source": [
    "plt.plot(result_mean.index, result_mean['progression'],'-',label=\"model_mean\")\n",
    "plt.plot(result_lower.index, result_lower['progression'],'-',label=\"model_lower\")\n",
    "plt.plot(result_upper.index, result_upper['progression'],label=\"model_upper\")\n",
    "plt.plot(data[\"year\"], data['Mean'],'--', label='WHO_mean');\n",
    "plt.plot(data[\"year\"], data['Lower'],'--', label='WHO_lower');\n",
    "plt.plot(data[\"year\"], data['Upper'],'--', label='WHO_upper');\n",
    "plt.xlabel('Time [Years]')\n",
    "plt.ylabel('Progression')\n",
    "#plt.title('Model output for the progression variable when calibrated against the \\n WHO lower, mean and upper estimates for incidence' )\n",
    "plt.legend(loc='best')\n",
    "#plt.text(30,750000000, 'RMSE: 7.39% of Max', color='r', fontsize=12)"
   ]
  },
  {
   "cell_type": "markdown",
   "id": "9737f6d1",
   "metadata": {},
   "source": []
  },
  {
   "cell_type": "markdown",
   "id": "9b14cc70",
   "metadata": {},
   "source": [
    "## Error calculations"
   ]
  },
  {
   "cell_type": "code",
   "execution_count": 57,
   "id": "11f86409",
   "metadata": {},
   "outputs": [],
   "source": [
    "calDat=data.set_index('year')\n",
    "calDat_lower=calDat[\"Lower\"]\n",
    "calDat_mean=calDat[\"Mean\"]\n",
    "calDat_upper=calDat[\"Upper\"]\n",
    "    \n",
    "error_l=sum((result_lower['progression'] - calDat_lower)**2)\n",
    "error_m=sum((result_mean['progression'] - calDat_mean)**2)\n",
    "error_u=sum((result_upper['progression'] - calDat_upper)**2)"
   ]
  },
  {
   "cell_type": "code",
   "execution_count": 59,
   "id": "764dee23",
   "metadata": {},
   "outputs": [
    {
     "name": "stdout",
     "output_type": "stream",
     "text": [
      "Lower SSE =  555888429.5039761\n",
      "Mean SSE =  823510209.12376\n",
      "Upper SSE =  75542338440.0983\n"
     ]
    }
   ],
   "source": [
    "print(\"Lower SSE = \", error_l)\n",
    "print(\"Mean SSE = \", error_m)\n",
    "print(\"Upper SSE = \", error_u)\n"
   ]
  },
  {
   "cell_type": "code",
   "execution_count": null,
   "id": "b1be35f4",
   "metadata": {},
   "outputs": [],
   "source": []
  },
  {
   "cell_type": "code",
   "execution_count": null,
   "id": "d4163542",
   "metadata": {},
   "outputs": [],
   "source": []
  },
  {
   "cell_type": "code",
   "execution_count": null,
   "id": "b9a0e5f0",
   "metadata": {},
   "outputs": [],
   "source": [
    "\n"
   ]
  },
  {
   "cell_type": "code",
   "execution_count": null,
   "id": "1dd72429",
   "metadata": {},
   "outputs": [],
   "source": []
  },
  {
   "cell_type": "code",
   "execution_count": null,
   "id": "fb69e182",
   "metadata": {},
   "outputs": [],
   "source": []
  }
 ],
 "metadata": {
  "kernelspec": {
   "display_name": "Python 3 (ipykernel)",
   "language": "python",
   "name": "python3"
  },
  "language_info": {
   "codemirror_mode": {
    "name": "ipython",
    "version": 3
   },
   "file_extension": ".py",
   "mimetype": "text/x-python",
   "name": "python",
   "nbconvert_exporter": "python",
   "pygments_lexer": "ipython3",
   "version": "3.9.12"
  }
 },
 "nbformat": 4,
 "nbformat_minor": 5
}
